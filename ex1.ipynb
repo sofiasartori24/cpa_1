{
 "cells": [
  {
   "cell_type": "markdown",
   "metadata": {},
   "source": [
    "# Exercício 1"
   ]
  },
  {
   "cell_type": "code",
   "execution_count": 10,
   "metadata": {},
   "outputs": [],
   "source": [
    "import requests\n",
    "from bs4 import BeautifulSoup\n",
    "import os\n",
    "from time import sleep\n"
   ]
  },
  {
   "cell_type": "code",
   "execution_count": 11,
   "metadata": {},
   "outputs": [],
   "source": [
    "url = \"https://pt.wikipedia.org/wiki/Wikip%C3%A9dia:P%C3%A1gina_principal\"\n",
    "base_url = \"https://pt.wikipedia.org\""
   ]
  },
  {
   "cell_type": "code",
   "execution_count": 12,
   "metadata": {},
   "outputs": [],
   "source": [
    "response = requests.get(url)\n",
    "soup = BeautifulSoup(response.content, \"html.parser\")"
   ]
  },
  {
   "cell_type": "code",
   "execution_count": 13,
   "metadata": {},
   "outputs": [],
   "source": [
    "# pegando apenas links internos\n",
    "def find_all_internal_links(links: list) -> list:\n",
    "    links_filtered = set()\n",
    "    for link in links:\n",
    "        if \"href\" in link.attrs and link[\"href\"].startswith(\"/wiki/\"):\n",
    "            if \":\" in link[\"href\"]:\n",
    "                continue\n",
    "            links_filtered.add(link[\"href\"])\n",
    "    return list(links_filtered)"
   ]
  },
  {
   "cell_type": "code",
   "execution_count": 14,
   "metadata": {},
   "outputs": [],
   "source": [
    "links = soup.find_all(\"a\")"
   ]
  },
  {
   "cell_type": "code",
   "execution_count": 15,
   "metadata": {},
   "outputs": [
    {
     "name": "stdout",
     "output_type": "stream",
     "text": [
      "115\n"
     ]
    }
   ],
   "source": [
    "links = find_all_internal_links(links)\n",
    "print(len(links))"
   ]
  },
  {
   "cell_type": "code",
   "execution_count": 19,
   "metadata": {},
   "outputs": [
    {
     "name": "stdout",
     "output_type": "stream",
     "text": [
      "https://pt.wikipedia.org/wiki/West_Middletown_(Pensilv%C3%A2nia)\n",
      "https://pt.wikipedia.org/wiki/Federal_Information_Processing_Standard\n",
      "https://pt.wikipedia.org/wiki/UN/LOCODE\n",
      "An error occurred while saving the page: [Errno 2] No such file or directory: 'ex1/paginas/UN/LOCODE.html'\n",
      "https://pt.wikipedia.org/wiki/Comiss%C3%A3o_Econ%C3%B3mica_das_Na%C3%A7%C3%B5es_Unidas_para_a_Europa\n",
      "https://pt.wikipedia.org/wiki/Assist%C3%AAncia_Oficial_ao_Desenvolvimento\n",
      "https://pt.wikipedia.org/wiki/Ag%C3%AAncia_de_Coopera%C3%A7%C3%A3o_Internacional_do_Jap%C3%A3o\n",
      "https://pt.wikipedia.org/wiki/Nikkei\n",
      "https://pt.wikipedia.org/wiki/N%C3%BAmero_ordinal\n",
      "https://pt.wikipedia.org/wiki/Adolf_Abraham_Halevi_Fraenkel\n",
      "https://pt.wikipedia.org/wiki/17_de_fevereiro#Nascimentos\n",
      "https://pt.wikipedia.org/wiki/1863\n",
      "https://pt.wikipedia.org/wiki/D%C3%A9cada_de_1910\n",
      "https://pt.wikipedia.org/wiki/ISO_8601\n",
      "https://pt.wikipedia.org/wiki/ISO_8583\n",
      "https://pt.wikipedia.org/wiki/ISO_128\n",
      "https://pt.wikipedia.org/wiki/Desenho_t%C3%A9cnico\n",
      "https://pt.wikipedia.org/wiki/Desenho_mec%C3%A2nico\n",
      "https://pt.wikipedia.org/wiki/Biblioteca_Nacional_da_Alemanha\n",
      "https://pt.wikipedia.org/wiki/Base_de_dados_bibliogr%C3%A1fica\n",
      "https://pt.wikipedia.org/wiki/Abstract\n",
      "https://pt.wikipedia.org/wiki/Pesquisa\n",
      "https://pt.wikipedia.org/wiki/Friedrich_Wilhelm_Joseph_von_Schelling\n",
      "https://pt.wikipedia.org/wiki/N%C3%BCrtingen\n",
      "https://pt.wikipedia.org/wiki/Stuttgart\n",
      "https://pt.wikipedia.org/wiki/950\n",
      "https://pt.wikipedia.org/wiki/Santiago_de_Compostela\n",
      "https://pt.wikipedia.org/wiki/Roque_de_Montpellier\n",
      "https://pt.wikipedia.org/wiki/Peste\n",
      "https://pt.wikipedia.org/wiki/Aeromonas\n",
      "An error occurred while saving the page: list index out of range\n",
      "https://pt.wikipedia.org/wiki/G%C3%A9nero_(biologia)\n",
      "https://pt.wikipedia.org/wiki/Tipo_nomenclatural\n",
      "https://pt.wikipedia.org/wiki/Nomenclatura_binomial#Códigos_de_nomenclatura\n",
      "https://pt.wikipedia.org/wiki/Natural_History_Museum,_London\n",
      "https://pt.wikipedia.org/wiki/Hans_Sloane\n",
      "https://pt.wikipedia.org/wiki/George_Biddell_Airy\n",
      "https://pt.wikipedia.org/wiki/Maarten_Schmidt\n",
      "https://pt.wikipedia.org/wiki/James_Gunn\n",
      "https://pt.wikipedia.org/wiki/Creature_Commandos\n",
      "An error occurred while saving the page: list index out of range\n",
      "https://pt.wikipedia.org/wiki/Anima%C3%A7%C3%A3o_adulta\n",
      "https://pt.wikipedia.org/wiki/Ren_%26_Stimpy_Adult_Party_Cartoon\n",
      "An error occurred while saving the page: list index out of range\n",
      "https://pt.wikipedia.org/wiki/Humor\n",
      "https://pt.wikipedia.org/wiki/Soberba\n",
      "https://pt.wikipedia.org/wiki/Sete_pecados_capitais\n",
      "https://pt.wikipedia.org/wiki/Peter_Binsfeld\n",
      "https://pt.wikipedia.org/wiki/Demonologista\n",
      "https://pt.wikipedia.org/wiki/Demonolatria\n",
      "https://pt.wikipedia.org/wiki/G%C3%AAnio_(mitologia_%C3%A1rabe)\n",
      "https://pt.wikipedia.org/wiki/Jeannie_%C3%A9_um_G%C3%AAnio\n",
      "An error occurred while saving the page: list index out of range\n",
      "https://pt.wikipedia.org/wiki/Bill_McKinney\n",
      "https://pt.wikipedia.org/wiki/Estadunidense\n",
      "https://pt.wikipedia.org/wiki/Mexicanos\n",
      "https://pt.wikipedia.org/wiki/Demografia_do_M%C3%A9xico\n",
      "https://pt.wikipedia.org/wiki/Demografia_de_S%C3%A3o_Crist%C3%B3v%C3%A3o_e_Nevis\n",
      "https://pt.wikipedia.org/wiki/Economia_de_S%C3%A3o_Crist%C3%B3v%C3%A3o_e_Neves\n",
      "https://pt.wikipedia.org/wiki/Economia_de_Cabo_Verde\n",
      "https://pt.wikipedia.org/wiki/Economia_de_S%C3%A3o_Tom%C3%A9_e_Pr%C3%ADncipe\n",
      "https://pt.wikipedia.org/wiki/Golpe_de_Estado_em_S%C3%A3o_Tom%C3%A9_e_Pr%C3%ADncipe_em_1995\n",
      "https://pt.wikipedia.org/wiki/Tentativa_de_golpe_de_Estado_no_N%C3%ADger_em_2021\n",
      "https://pt.wikipedia.org/wiki/Conspira%C3%A7%C3%A3o_para_golpe_de_Estado_na_Alemanha_em_2022\n",
      "https://pt.wikipedia.org/wiki/Golpe_de_estado\n",
      "https://pt.wikipedia.org/wiki/Referendo_revogat%C3%B3rio\n",
      "An error occurred while saving the page: list index out of range\n",
      "https://pt.wikipedia.org/wiki/Eduardo_Suplicy\n",
      "https://pt.wikipedia.org/wiki/Jorge_do_Carmo\n",
      "https://pt.wikipedia.org/wiki/16_de_julho#Nascimentos\n",
      "https://pt.wikipedia.org/wiki/Ilhas_Pescadores\n",
      "https://pt.wikipedia.org/wiki/Ilha_Formosa\n",
      "https://pt.wikipedia.org/wiki/Mar_da_China_Oriental\n",
      "https://pt.wikipedia.org/wiki/Mar_C%C3%A1spio\n",
      "https://pt.wikipedia.org/wiki/L%C3%ADngua_turcomena\n",
      "https://pt.wikipedia.org/wiki/L%C3%ADnguas_oguz\n",
      "https://pt.wikipedia.org/wiki/L%C3%ADngua_urum\n",
      "https://pt.wikipedia.org/wiki/Consoante\n",
      "https://pt.wikipedia.org/wiki/Africada_palatal_surda\n",
      "https://pt.wikipedia.org/wiki/Tipulidae\n",
      "https://pt.wikipedia.org/wiki/Imago\n",
      "https://pt.wikipedia.org/wiki/Flor\n",
      "https://pt.wikipedia.org/wiki/C%C3%A9lula_vegetal\n",
      "https://pt.wikipedia.org/wiki/Tanino\n",
      "https://pt.wikipedia.org/wiki/Couro_fervido\n",
      "https://pt.wikipedia.org/wiki/Contos_de_Canterbury\n",
      "An error occurred while saving the page: list index out of range\n",
      "https://pt.wikipedia.org/wiki/Os_Dois_Nobres_Parentes\n",
      "An error occurred while saving the page: list index out of range\n",
      "https://pt.wikipedia.org/wiki/P%C3%A9ricles,_Pr%C3%ADncipe_de_Tiro\n",
      "An error occurred while saving the page: list index out of range\n",
      "https://pt.wikipedia.org/wiki/First_Folio\n",
      "An error occurred while saving the page: list index out of range\n",
      "https://pt.wikipedia.org/wiki/The_Merchant_of_Venice\n",
      "An error occurred while saving the page: list index out of range\n",
      "https://pt.wikipedia.org/wiki/W._H._Auden\n",
      "https://pt.wikipedia.org/wiki/Cecil_Day-Lewis\n",
      "https://pt.wikipedia.org/wiki/27_de_abril#Nascimentos\n",
      "https://pt.wikipedia.org/wiki/Samuel_Morse\n",
      "https://pt.wikipedia.org/wiki/Consoante_plosiva\n",
      "https://pt.wikipedia.org/wiki/Clique_(fon%C3%A9tica)\n",
      "https://pt.wikipedia.org/wiki/L%C3%ADnguas_coiss%C3%A3s\n",
      "https://pt.wikipedia.org/wiki/Povo_ind%C3%ADgena\n",
      "https://pt.wikipedia.org/wiki/Seminole\n",
      "https://pt.wikipedia.org/wiki/Etnologia\n",
      "https://pt.wikipedia.org/wiki/Ant%C3%B4nio_Houaiss\n",
      "https://pt.wikipedia.org/wiki/Jos%C3%A9_Murilo_de_Carvalho\n",
      "https://pt.wikipedia.org/wiki/33.%C2%BA_Pr%C3%AAmio_Jabuti\n",
      "https://pt.wikipedia.org/wiki/60.%C2%BA_Pr%C3%AAmio_Jabuti\n",
      "https://pt.wikipedia.org/wiki/Luiz_Armando_Bagolin\n"
     ]
    },
    {
     "ename": "KeyboardInterrupt",
     "evalue": "",
     "output_type": "error",
     "traceback": [
      "\u001b[31m---------------------------------------------------------------------------\u001b[39m",
      "\u001b[31mKeyboardInterrupt\u001b[39m                         Traceback (most recent call last)",
      "\u001b[36mCell\u001b[39m\u001b[36m \u001b[39m\u001b[32mIn[19]\u001b[39m\u001b[32m, line 28\u001b[39m\n\u001b[32m     25\u001b[39m         \u001b[38;5;28;01mif\u001b[39;00m link \u001b[38;5;129;01mnot\u001b[39;00m \u001b[38;5;129;01min\u001b[39;00m links_visitados \u001b[38;5;129;01mand\u001b[39;00m link \u001b[38;5;129;01mnot\u001b[39;00m \u001b[38;5;129;01min\u001b[39;00m links:\n\u001b[32m     26\u001b[39m             links.append(link)\n\u001b[32m---> \u001b[39m\u001b[32m28\u001b[39m     \u001b[43msleep\u001b[49m\u001b[43m(\u001b[49m\u001b[32;43m1\u001b[39;49m\u001b[43m)\u001b[49m\n\u001b[32m     29\u001b[39m \u001b[38;5;28;01melse\u001b[39;00m:\n\u001b[32m     30\u001b[39m     \u001b[38;5;28mprint\u001b[39m(\u001b[33m\"\u001b[39m\u001b[33mNão há mais links para visitar\u001b[39m\u001b[33m\"\u001b[39m)\n",
      "\u001b[31mKeyboardInterrupt\u001b[39m: "
     ]
    }
   ],
   "source": [
    "paginas_salvas = []\n",
    "links_visitados = []\n",
    "while len(paginas_salvas) < 5100:\n",
    "    if len(links) != 0:\n",
    "        link_atual = links.pop()\n",
    "        links_visitados.append(link_atual)\n",
    "        pagina = base_url+link_atual\n",
    "        print(pagina)\n",
    "        response = requests.get(pagina)\n",
    "        soup = BeautifulSoup(response.content, \"html.parser\")\n",
    "        # salvando o conteúdo da página\n",
    "        try:\n",
    "            nome_arquivo = soup.select(\".mw-page-title-main\")[0].text\n",
    "            diretorio = \"ex1/paginas\"\n",
    "            caminho_arquivo = os.path.join(diretorio, f\"{nome_arquivo}.html\")\n",
    "            with open(caminho_arquivo, \"w\", encoding=\"utf-8\") as file:\n",
    "                conteudo = response.content.decode(\"utf-8\")\n",
    "                file.write(conteudo)\n",
    "            paginas_salvas.append(pagina)\n",
    "        except Exception as e:\n",
    "            print(f\"An error occurred while saving the page: {e}\")\n",
    "        new_links = soup.find_all(\"a\")\n",
    "        new_links = find_all_internal_links(new_links)\n",
    "        for link in new_links:\n",
    "            if link not in links_visitados and link not in links:\n",
    "                links.append(link)\n",
    "        \n",
    "        sleep(1)\n",
    "    else:\n",
    "        print(\"Não há mais links para visitar\")\n",
    "        break"
   ]
  },
  {
   "cell_type": "code",
   "execution_count": null,
   "metadata": {},
   "outputs": [],
   "source": []
  }
 ],
 "metadata": {
  "kernelspec": {
   "display_name": "cpa-p3",
   "language": "python",
   "name": "python3"
  },
  "language_info": {
   "codemirror_mode": {
    "name": "ipython",
    "version": 3
   },
   "file_extension": ".py",
   "mimetype": "text/x-python",
   "name": "python",
   "nbconvert_exporter": "python",
   "pygments_lexer": "ipython3",
   "version": "3.13.3"
  }
 },
 "nbformat": 4,
 "nbformat_minor": 2
}
